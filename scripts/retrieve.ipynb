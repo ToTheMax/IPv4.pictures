{
 "cells": [
  {
   "cell_type": "code",
   "execution_count": 8,
   "metadata": {},
   "outputs": [],
   "source": [
    "import json\n",
    "import requests\n",
    "import polars as pl"
   ]
  },
  {
   "cell_type": "code",
   "execution_count": 9,
   "metadata": {},
   "outputs": [
    {
     "name": "stdout",
     "output_type": "stream",
     "text": [
      "Retrieved 719443 rows\n"
     ]
    }
   ],
   "source": [
    "# Get latest data\n",
    "response = requests.get(\n",
    "    \"https://ftp.ripe.net/pub/stats/ripencc/nro-stats/latest/nro-delegated-stats\"\n",
    ")\n",
    "assert response.status_code == 200\n",
    "rows = [x.split(\"|\") for x in response.text.split(\"\\n\")][4:]\n",
    "print(f\"Retrieved {len(rows)} rows\")"
   ]
  },
  {
   "cell_type": "code",
   "execution_count": 10,
   "metadata": {},
   "outputs": [],
   "source": [
    "# Put in polars dataframe\n",
    "registry_enum = pl.Enum(\n",
    "    [\"afrinic\", \"apnic\", \"arin\", \"lacnic\", \"ripe\", \"ripencc\", \"iana\"]\n",
    ")\n",
    "type_enum = pl.Enum([\"ipv4\", \"ipv6\", \"asn\"])\n",
    "status_enum = pl.Enum([\"allocated\", \"assigned\", \"reserved\", \"available\"])\n",
    "lf = (\n",
    "    pl.LazyFrame(\n",
    "        rows,\n",
    "        orient=\"row\",\n",
    "        schema={\n",
    "            \"registry\": registry_enum,\n",
    "            \"cc\": str,\n",
    "            \"type\": type_enum,\n",
    "            \"ip\": str,\n",
    "            \"count\": pl.UInt32,\n",
    "            \"date\": str,\n",
    "            \"status\": status_enum,\n",
    "            \"summary\": str,\n",
    "            \"extra\": str,\n",
    "        },\n",
    "    )\n",
    "    .filter(pl.col(\"type\") == \"ipv4\")\n",
    "    .drop([\"summary\", \"extra\"])\n",
    ")"
   ]
  },
  {
   "cell_type": "code",
   "execution_count": 11,
   "metadata": {},
   "outputs": [],
   "source": [
    "# Add some extra columns\n",
    "lf = (\n",
    "    lf.with_columns(\n",
    "        pl.col(\"ip\")\n",
    "        .str.split_exact(by=\".\", n=3)\n",
    "        .struct.rename_fields([\"ip_byte_1\", \"ip_byte_2\", \"ip_byte_3\", \"ip_byte_4\"])\n",
    "        .alias(\"ip_split\"),\n",
    "    )\n",
    "    .unnest(\"ip_split\")\n",
    "    .with_columns(\n",
    "        (\n",
    "            pl.col(\"ip_byte_1\").cast(pl.UInt32) * (2**24)\n",
    "            + pl.col(\"ip_byte_2\").cast(pl.UInt32) * (2**16)\n",
    "            + pl.col(\"ip_byte_3\").cast(pl.UInt32) * (2**8)\n",
    "            + pl.col(\"ip_byte_4\").cast(pl.UInt32) * (2**0)\n",
    "        ).alias(\"ip_integer\")\n",
    "    )\n",
    "    .with_columns((pl.col(\"ip_integer\").floordiv(256)).alias(\"ip_block_integer\"))\n",
    "    .with_columns(pl.col(\"count\").floordiv(256).alias(\"block_count\"))\n",
    "    .sort(\"ip_integer\")\n",
    "    .drop([\"ip_byte_1\", \"ip_byte_2\", \"ip_byte_3\", \"ip_byte_4\"])\n",
    ")"
   ]
  },
  {
   "cell_type": "code",
   "execution_count": 12,
   "metadata": {},
   "outputs": [
    {
     "data": {
      "text/html": [
       "<div><style>\n",
       ".dataframe > thead > tr,\n",
       ".dataframe > tbody > tr {\n",
       "  text-align: right;\n",
       "  white-space: pre-wrap;\n",
       "}\n",
       "</style>\n",
       "<small>shape: (251_832, 13)</small><table border=\"1\" class=\"dataframe\"><thead><tr><th>registry</th><th>cc</th><th>type</th><th>ip</th><th>count</th><th>date</th><th>status</th><th>ip_integer</th><th>ip_block_integer</th><th>block_count</th><th>registry_group_id</th><th>cc_group_id</th><th>status_group_id</th></tr><tr><td>enum</td><td>str</td><td>enum</td><td>str</td><td>u32</td><td>str</td><td>enum</td><td>u32</td><td>u32</td><td>u32</td><td>u32</td><td>u32</td><td>u32</td></tr></thead><tbody><tr><td>&quot;iana&quot;</td><td>&quot;ZZ&quot;</td><td>&quot;ipv4&quot;</td><td>&quot;0.0.0.0&quot;</td><td>16777216</td><td>&quot;19810901&quot;</td><td>&quot;reserved&quot;</td><td>0</td><td>0</td><td>65536</td><td>1</td><td>1</td><td>1</td></tr><tr><td>&quot;apnic&quot;</td><td>&quot;AU&quot;</td><td>&quot;ipv4&quot;</td><td>&quot;1.0.0.0&quot;</td><td>256</td><td>&quot;20110811&quot;</td><td>&quot;assigned&quot;</td><td>16777216</td><td>65536</td><td>1</td><td>2</td><td>2</td><td>2</td></tr><tr><td>&quot;apnic&quot;</td><td>&quot;CN&quot;</td><td>&quot;ipv4&quot;</td><td>&quot;1.0.1.0&quot;</td><td>256</td><td>&quot;20110414&quot;</td><td>&quot;assigned&quot;</td><td>16777472</td><td>65537</td><td>1</td><td>2</td><td>3</td><td>2</td></tr><tr><td>&quot;apnic&quot;</td><td>&quot;CN&quot;</td><td>&quot;ipv4&quot;</td><td>&quot;1.0.2.0&quot;</td><td>512</td><td>&quot;20110414&quot;</td><td>&quot;assigned&quot;</td><td>16777728</td><td>65538</td><td>2</td><td>2</td><td>3</td><td>2</td></tr><tr><td>&quot;apnic&quot;</td><td>&quot;AU&quot;</td><td>&quot;ipv4&quot;</td><td>&quot;1.0.4.0&quot;</td><td>1024</td><td>&quot;20110412&quot;</td><td>&quot;assigned&quot;</td><td>16778240</td><td>65540</td><td>4</td><td>2</td><td>4</td><td>2</td></tr><tr><td>&hellip;</td><td>&hellip;</td><td>&hellip;</td><td>&hellip;</td><td>&hellip;</td><td>&hellip;</td><td>&hellip;</td><td>&hellip;</td><td>&hellip;</td><td>&hellip;</td><td>&hellip;</td><td>&hellip;</td><td>&hellip;</td></tr><tr><td>&quot;iana&quot;</td><td>&quot;ZZ&quot;</td><td>&quot;ipv4&quot;</td><td>&quot;251.0.0.0&quot;</td><td>16777216</td><td>&quot;19810901&quot;</td><td>&quot;reserved&quot;</td><td>4211081216</td><td>16449536</td><td>65536</td><td>11753</td><td>138641</td><td>11503</td></tr><tr><td>&quot;iana&quot;</td><td>&quot;ZZ&quot;</td><td>&quot;ipv4&quot;</td><td>&quot;252.0.0.0&quot;</td><td>16777216</td><td>&quot;19810901&quot;</td><td>&quot;reserved&quot;</td><td>4227858432</td><td>16515072</td><td>65536</td><td>11753</td><td>138641</td><td>11503</td></tr><tr><td>&quot;iana&quot;</td><td>&quot;ZZ&quot;</td><td>&quot;ipv4&quot;</td><td>&quot;253.0.0.0&quot;</td><td>16777216</td><td>&quot;19810901&quot;</td><td>&quot;reserved&quot;</td><td>4244635648</td><td>16580608</td><td>65536</td><td>11753</td><td>138641</td><td>11503</td></tr><tr><td>&quot;iana&quot;</td><td>&quot;ZZ&quot;</td><td>&quot;ipv4&quot;</td><td>&quot;254.0.0.0&quot;</td><td>16777216</td><td>&quot;19810901&quot;</td><td>&quot;reserved&quot;</td><td>4261412864</td><td>16646144</td><td>65536</td><td>11753</td><td>138641</td><td>11503</td></tr><tr><td>&quot;iana&quot;</td><td>&quot;ZZ&quot;</td><td>&quot;ipv4&quot;</td><td>&quot;255.0.0.0&quot;</td><td>16777216</td><td>&quot;19810901&quot;</td><td>&quot;reserved&quot;</td><td>4278190080</td><td>16711680</td><td>65536</td><td>11753</td><td>138641</td><td>11503</td></tr></tbody></table></div>"
      ],
      "text/plain": [
       "shape: (251_832, 13)\n",
       "┌──────────┬─────┬──────┬───────────┬───┬─────────────┬───────────────┬─────────────┬──────────────┐\n",
       "│ registry ┆ cc  ┆ type ┆ ip        ┆ … ┆ block_count ┆ registry_grou ┆ cc_group_id ┆ status_group │\n",
       "│ ---      ┆ --- ┆ ---  ┆ ---       ┆   ┆ ---         ┆ p_id          ┆ ---         ┆ _id          │\n",
       "│ enum     ┆ str ┆ enum ┆ str       ┆   ┆ u32         ┆ ---           ┆ u32         ┆ ---          │\n",
       "│          ┆     ┆      ┆           ┆   ┆             ┆ u32           ┆             ┆ u32          │\n",
       "╞══════════╪═════╪══════╪═══════════╪═══╪═════════════╪═══════════════╪═════════════╪══════════════╡\n",
       "│ iana     ┆ ZZ  ┆ ipv4 ┆ 0.0.0.0   ┆ … ┆ 65536       ┆ 1             ┆ 1           ┆ 1            │\n",
       "│ apnic    ┆ AU  ┆ ipv4 ┆ 1.0.0.0   ┆ … ┆ 1           ┆ 2             ┆ 2           ┆ 2            │\n",
       "│ apnic    ┆ CN  ┆ ipv4 ┆ 1.0.1.0   ┆ … ┆ 1           ┆ 2             ┆ 3           ┆ 2            │\n",
       "│ apnic    ┆ CN  ┆ ipv4 ┆ 1.0.2.0   ┆ … ┆ 2           ┆ 2             ┆ 3           ┆ 2            │\n",
       "│ apnic    ┆ AU  ┆ ipv4 ┆ 1.0.4.0   ┆ … ┆ 4           ┆ 2             ┆ 4           ┆ 2            │\n",
       "│ …        ┆ …   ┆ …    ┆ …         ┆ … ┆ …           ┆ …             ┆ …           ┆ …            │\n",
       "│ iana     ┆ ZZ  ┆ ipv4 ┆ 251.0.0.0 ┆ … ┆ 65536       ┆ 11753         ┆ 138641      ┆ 11503        │\n",
       "│ iana     ┆ ZZ  ┆ ipv4 ┆ 252.0.0.0 ┆ … ┆ 65536       ┆ 11753         ┆ 138641      ┆ 11503        │\n",
       "│ iana     ┆ ZZ  ┆ ipv4 ┆ 253.0.0.0 ┆ … ┆ 65536       ┆ 11753         ┆ 138641      ┆ 11503        │\n",
       "│ iana     ┆ ZZ  ┆ ipv4 ┆ 254.0.0.0 ┆ … ┆ 65536       ┆ 11753         ┆ 138641      ┆ 11503        │\n",
       "│ iana     ┆ ZZ  ┆ ipv4 ┆ 255.0.0.0 ┆ … ┆ 65536       ┆ 11753         ┆ 138641      ┆ 11503        │\n",
       "└──────────┴─────┴──────┴───────────┴───┴─────────────┴───────────────┴─────────────┴──────────────┘"
      ]
     },
     "execution_count": 12,
     "metadata": {},
     "output_type": "execute_result"
    }
   ],
   "source": [
    "def group_consecutive_rows(\n",
    "    lf: pl.DataFrame, column_name: str, first_value: str\n",
    ") -> pl.DataFrame:\n",
    "    return lf.with_columns(\n",
    "        (pl.col(column_name) != pl.col(column_name).shift(1, fill_value=first_value))\n",
    "        .cum_sum()\n",
    "        .alias(f\"{column_name}_group_id\")\n",
    "    )\n",
    "\n",
    "\n",
    "lf = group_consecutive_rows(lf, \"registry\", \"ripe\")\n",
    "lf = group_consecutive_rows(lf, \"cc\", \"XY\")\n",
    "lf = group_consecutive_rows(lf, \"status\", \"available\")\n",
    "lf.collect()"
   ]
  }
 ],
 "metadata": {
  "kernelspec": {
   "display_name": "Python 3",
   "language": "python",
   "name": "python3"
  },
  "language_info": {
   "codemirror_mode": {
    "name": "ipython",
    "version": 3
   },
   "file_extension": ".py",
   "mimetype": "text/x-python",
   "name": "python",
   "nbconvert_exporter": "python",
   "pygments_lexer": "ipython3",
   "version": "3.11.0"
  }
 },
 "nbformat": 4,
 "nbformat_minor": 2
}
